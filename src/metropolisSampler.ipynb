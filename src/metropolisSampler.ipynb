{
 "cells": [
  {
   "cell_type": "markdown",
   "metadata": {},
   "source": [
    "# metropolisSampler\n",
    "- Sara Echeverría 21371\n",
    "- Melissa Pérez 21385\n",
    "- Ricardo Mendez 21289\n",
    "\n",
    "Repository link: https://github.com/bl33h/metropolisSampler"
   ]
  },
  {
   "cell_type": "markdown",
   "metadata": {},
   "source": [
    "## Task 1"
   ]
  },
  {
   "cell_type": "markdown",
   "metadata": {},
   "source": [
    "1. ¿Cómo se puede verificar que una cadena MCMC ha alcanzado su estado estacionario y por qué esto es\n",
    "importante?\n",
    "    - Se pueden utilizar diagnósticos de convergencia para asegurar que las muestras reflejan la distribución objetivo, esto es esencial para inferencias precisas.\n",
    "2. ¿En qué situaciones es preferible usar el Muestreador de Gibbs sobre Metropolis-Hastings?\n",
    "    - Es mejor utilizarlo cuando las distribuciones condicionales son simples y conocidas, facilitando la eficiencia en problemas de alta dimensión.\n",
    "3. ¿Cómo afecta la elección de la distribución de propuesta en la eficiencia del Algoritmo de\n",
    "Metropolis-Hasting y cómo afecta la tasa de aceptación de las muestras?\n",
    "    - Por su parte, una buena elección mejora la eficiencia y la tasa de aceptación, mientras que una mala elección puede resultar en muchos rechazos o progreso lento en la cadena."
   ]
  },
  {
   "cell_type": "markdown",
   "metadata": {},
   "source": [
    "## Task 2"
   ]
  },
  {
   "cell_type": "markdown",
   "metadata": {},
   "source": [
    "1. Implementa el Algoritmo de Metropolis-Hastings en Python.\n",
    "2. Utiliza una distribución de propuesta uniforme en el intervalo [−1,1].\n",
    "3. Realiza al menos 10,000 iteraciones para obtener suficientes muestras.\n",
    "4. Compara el histograma de las muestras obtenidas con la verdadera distribución normal N(0,1) usando la\n",
    "biblioteca matplotlib."
   ]
  }
 ],
 "metadata": {
  "kernelspec": {
   "display_name": "myenv",
   "language": "python",
   "name": "myenv"
  },
  "language_info": {
   "name": "python",
   "version": "3.9.13"
  }
 },
 "nbformat": 4,
 "nbformat_minor": 2
}
